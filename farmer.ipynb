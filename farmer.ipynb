{
 "cells": [
  {
   "cell_type": "code",
   "execution_count": 26,
   "metadata": {},
   "outputs": [],
   "source": [
    "import pandas as pd\n",
    "import numpy as np\n",
    "import matplotlib.pyplot as plt\n",
    "import seaborn as sns\n",
    "from sklearn import tree\n",
    "from sklearn.metrics import classification_report\n",
    "from sklearn import metrics\n",
    "from sklearn.model_selection import train_test_split\n",
    "from sklearn.ensemble import RandomForestClassifier\n",
    "import os\n"
   ]
  },
  {
   "cell_type": "code",
   "execution_count": 13,
   "metadata": {},
   "outputs": [],
   "source": [
    "def location_to_soil(location,soil=False):\n",
    "\n",
    "    if(soil!=False):\n",
    "        return soil\n",
    "    soils_in_india = {\n",
    "    \"Alluvial Soil\": [\"Bihar\", \"Uttar Pradesh\", \"West Bengal\", \"Delhi\", \"Haryana\", \"Punjab\", \"Himachal Pradesh\", \"Jammu and Kashmir\"],\n",
    "    \"Red Soil\": [\"Andhra Pradesh\", \"Karnataka\", \"Kerala\", \"Tamil Nadu\", \"Odisha\", \"Jharkhand\"],\n",
    "    \"Black Soil\": [\"Maharashtra\", \"Gujarat\", \"Madhya Pradesh\", \"Chhattisgarh\"],\n",
    "    \"Mountain Soil\": [\"Himachal Pradesh\", \"Jammu and Kashmir\", \"Uttarakhand\", \"Sikkim\"],\n",
    "    \"Desert Soil\": [\"Rajasthan\"],\n",
    "    \"Saline and Alkaline Soil\": [\"Gujarat\", \"Rajasthan\", \"Haryana\"],\n",
    "    \"Laterite Soil\": [\"Kerala\", \"Karnataka\", \"Goa\", \"Tamil Nadu\"],\n",
    "    \"Peaty Soil\": [\"Assam\", \"West Bengal\", \"Odisha\", \"Meghalaya\"]\n",
    "    }\n",
    "    soils = []\n",
    "    for key,item in enumerate(soils_in_india):\n",
    "        for i in soils_in_india[item]:\n",
    "            if(i == location):\n",
    "                soils.append(item)\n",
    "    print(soils)\n",
    "    return soils\n",
    "\n",
    "\n"
   ]
  },
  {
   "cell_type": "code",
   "execution_count": 16,
   "metadata": {},
   "outputs": [],
   "source": [
    "def soil_to_n_p_k_ph():\n",
    "    pass"
   ]
  },
  {
   "cell_type": "code",
   "execution_count": 42,
   "metadata": {},
   "outputs": [],
   "source": [
    "def predict_crop(path,data):\n",
    "    df = pd.read_csv(path)\n",
    "    features = df[['N', 'P','K','temperature', 'humidity', 'ph', 'rainfall']]\n",
    "    target = df['label']\n",
    "    labels = df['label']\n",
    "    Xtrain, Xtest, Ytrain, Ytest = train_test_split(features,target,test_size = 0.2,random_state =2)\n",
    "    Xtrain = np.array(Xtrain)\n",
    "    Xtest = np.array(Xtest)\n",
    "    RF = RandomForestClassifier(n_estimators=20, random_state=0)\n",
    "    RF.fit(Xtrain,Ytrain)\n",
    "    predicted_values = RF.predict(Xtest)\n",
    "    x = metrics.accuracy_score(Ytest, predicted_values)\n",
    "    print(\"Accuracy is\",x)\n",
    "    # data = np.array([[104,18, 30, 23.603016, 60.3, 6.7, 140.91]])\n",
    "    prediction = RF.predict(data)\n",
    "    print(prediction)\n",
    "\n",
    "    \n",
    "    "
   ]
  },
  {
   "cell_type": "code",
   "execution_count": 43,
   "metadata": {},
   "outputs": [
    {
     "name": "stdout",
     "output_type": "stream",
     "text": [
      "Accuracy is 0.990909090909091\n",
      "['coffee']\n"
     ]
    }
   ],
   "source": [
    "data = np.array([[104,18, 30, 23.603016, 60.3, 6.7, 140.91]])\n",
    "predict_crop(\"Crop_recommendation.csv\",data)"
   ]
  },
  {
   "cell_type": "code",
   "execution_count": null,
   "metadata": {},
   "outputs": [],
   "source": []
  },
  {
   "cell_type": "code",
   "execution_count": null,
   "metadata": {},
   "outputs": [],
   "source": [
    "def predict_rain(path,state,district=False):\n",
    "    pass"
   ]
  }
 ],
 "metadata": {
  "kernelspec": {
   "display_name": "Python 3",
   "language": "python",
   "name": "python3"
  },
  "language_info": {
   "codemirror_mode": {
    "name": "ipython",
    "version": 3
   },
   "file_extension": ".py",
   "mimetype": "text/x-python",
   "name": "python",
   "nbconvert_exporter": "python",
   "pygments_lexer": "ipython3",
   "version": "3.8.10"
  },
  "orig_nbformat": 4,
  "vscode": {
   "interpreter": {
    "hash": "916dbcbb3f70747c44a77c7bcd40155683ae19c65e1c03b4aa3499c5328201f1"
   }
  }
 },
 "nbformat": 4,
 "nbformat_minor": 2
}
